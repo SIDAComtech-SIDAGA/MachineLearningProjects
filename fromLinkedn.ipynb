{
 "cells": [
  {
   "cell_type": "code",
   "execution_count": null,
   "id": "b6d1a995-fc2d-4878-8d50-0e825332523a",
   "metadata": {},
   "outputs": [
    {
     "name": "stdout",
     "output_type": "stream",
     "text": [
      "Hello Sidaga, You gonna be fineee\n",
      "5 <class 'int'>\n",
      "2.5 <class 'float'> How you gonna be fineee? <class 'str'>\n"
     ]
    }
   ],
   "source": [
    "print(\"Hello Sidaga, You gonna be fineee\")\n",
    "my_num = 5\n",
    "print(my_num,type(my_num))\n",
    "\n",
    "my_float = 2.5\n",
    "my_string = \"How you gonna be fineee?\"\n",
    "print(my_float,type(my_float), my_string, type(my_string))"
   ]
  },
  {
   "cell_type": "code",
   "execution_count": null,
   "metadata": {},
   "outputs": [
    {
     "name": "stdout",
     "output_type": "stream",
     "text": [
      "<class 'bool'> <class 'bool'>\n"
     ]
    }
   ],
   "source": [
    "bool_t, bool_f = True, False\n",
    "print(type(bool_t), type(bool_f))"
   ]
  }
 ],
 "metadata": {
  "language_info": {
   "codemirror_mode": {
    "name": "ipython",
    "version": 3
   },
   "file_extension": ".py",
   "mimetype": "text/x-python",
   "name": "python",
   "nbconvert_exporter": "python",
   "pygments_lexer": "ipython3",
   "version": 3
  }
 },
 "nbformat": 4,
 "nbformat_minor": 2
}
