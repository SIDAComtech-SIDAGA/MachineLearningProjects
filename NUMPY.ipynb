{
 "cells": [
  {
   "cell_type": "code",
   "execution_count": 1,
   "id": "56fb8eb6",
   "metadata": {},
   "outputs": [
    {
     "data": {
      "text/plain": [
       "'1.24.3'"
      ]
     },
     "execution_count": 1,
     "metadata": {},
     "output_type": "execute_result"
    }
   ],
   "source": [
    "import numpy\n",
    "numpy.__version__\n"
   ]
  },
  {
   "cell_type": "code",
   "execution_count": 2,
   "id": "f48d482a",
   "metadata": {},
   "outputs": [],
   "source": [
    "import numpy as np"
   ]
  },
  {
   "cell_type": "code",
   "execution_count": 3,
   "id": "901e9cd3",
   "metadata": {},
   "outputs": [],
   "source": [
    "np?"
   ]
  },
  {
   "cell_type": "code",
   "execution_count": 10,
   "id": "b98d4da8",
   "metadata": {},
   "outputs": [
    {
     "name": "stdout",
     "output_type": "stream",
     "text": [
      "0\n",
      "1\n",
      "3\n",
      "6\n",
      "10\n",
      "15\n",
      "21\n",
      "28\n",
      "36\n",
      "45\n"
     ]
    }
   ],
   "source": [
    "result = 0\n",
    "for i in range(10):\n",
    "    result +=i\n",
    "    print(result)"
   ]
  },
  {
   "cell_type": "code",
   "execution_count": 11,
   "id": "f7ad251a",
   "metadata": {},
   "outputs": [
    {
     "data": {
      "text/plain": [
       "[0, 1, 2, 3, 4, 5, 6, 7, 8, 9]"
      ]
     },
     "execution_count": 11,
     "metadata": {},
     "output_type": "execute_result"
    }
   ],
   "source": [
    "#A PYTHON LIST IS MORE THAN JUST A LIST\n",
    "L = list(range(10))\n",
    "L"
   ]
  },
  {
   "cell_type": "code",
   "execution_count": 12,
   "id": "8b57bf40",
   "metadata": {},
   "outputs": [
    {
     "data": {
      "text/plain": [
       "array(0)"
      ]
     },
     "execution_count": 12,
     "metadata": {},
     "output_type": "execute_result"
    }
   ],
   "source": [
    "a = np.zeros_like(10)\n",
    "a"
   ]
  },
  {
   "cell_type": "code",
   "execution_count": 13,
   "id": "8e5b7697",
   "metadata": {},
   "outputs": [
    {
     "name": "stdout",
     "output_type": "stream",
     "text": [
      "<class 'list'>\n",
      "<class 'int'>\n"
     ]
    }
   ],
   "source": [
    "print(type(L))\n",
    "print(type(L[0]))"
   ]
  },
  {
   "cell_type": "code",
   "execution_count": null,
   "id": "24eaa329",
   "metadata": {},
   "outputs": [],
   "source": []
  },
  {
   "cell_type": "code",
   "execution_count": 14,
   "id": "ab6d1072",
   "metadata": {
    "scrolled": true
   },
   "outputs": [
    {
     "data": {
      "text/plain": [
       "['0', '1', '2', '3', '4', '5', '6', '7', '8', '9']"
      ]
     },
     "execution_count": 14,
     "metadata": {},
     "output_type": "execute_result"
    }
   ],
   "source": [
    "L2 = [str(D) for D in L]\n",
    "L2"
   ]
  },
  {
   "cell_type": "code",
   "execution_count": 15,
   "id": "83217710",
   "metadata": {},
   "outputs": [
    {
     "name": "stdout",
     "output_type": "stream",
     "text": [
      "<class 'list'>\n",
      "<class 'str'>\n"
     ]
    }
   ],
   "source": [
    "print(type(L2))\n",
    "print(type(L2[0]))"
   ]
  },
  {
   "cell_type": "code",
   "execution_count": 16,
   "id": "b2fd770c",
   "metadata": {},
   "outputs": [
    {
     "data": {
      "text/plain": [
       "[bool, str, float, int]"
      ]
     },
     "execution_count": 16,
     "metadata": {},
     "output_type": "execute_result"
    }
   ],
   "source": [
    "L3 = [True,'2',3.0,4]\n",
    "[type(item) for item in L3]"
   ]
  },
  {
   "cell_type": "code",
   "execution_count": 17,
   "id": "e8cf40f8",
   "metadata": {},
   "outputs": [
    {
     "name": "stdout",
     "output_type": "stream",
     "text": [
      "array('i', [0, 1, 2, 3, 4, 5, 6, 7, 8, 9])\n"
     ]
    }
   ],
   "source": [
    "import array\n",
    "L = list(range(10))\n",
    "A = array.array('i',L)\n",
    "print(A)"
   ]
  },
  {
   "cell_type": "code",
   "execution_count": 18,
   "id": "a7c05ff1",
   "metadata": {},
   "outputs": [
    {
     "data": {
      "text/plain": [
       "array([1, 2, 3, 4, 5, 6, 6])"
      ]
     },
     "execution_count": 18,
     "metadata": {},
     "output_type": "execute_result"
    }
   ],
   "source": [
    "#CREATING ARRAY FROM PYTHON LIST\n",
    "np.array([1,2,3,4,5,6,6])"
   ]
  },
  {
   "cell_type": "code",
   "execution_count": 19,
   "id": "44f6ecbe",
   "metadata": {},
   "outputs": [
    {
     "data": {
      "text/plain": [
       "array([3.14, 4.  , 2.  , 3.  ])"
      ]
     },
     "execution_count": 19,
     "metadata": {},
     "output_type": "execute_result"
    }
   ],
   "source": [
    "np.array([3.14,4,2,3])"
   ]
  },
  {
   "cell_type": "code",
   "execution_count": 20,
   "id": "a2fd76e4",
   "metadata": {},
   "outputs": [
    {
     "data": {
      "text/plain": [
       "array([1., 2., 3., 4., 5., 6., 7.], dtype=float32)"
      ]
     },
     "execution_count": 20,
     "metadata": {},
     "output_type": "execute_result"
    }
   ],
   "source": [
    "np.array([1,2,3,4,5,6,7], dtype='float32')"
   ]
  },
  {
   "cell_type": "code",
   "execution_count": 21,
   "id": "8144a234",
   "metadata": {},
   "outputs": [],
   "source": [
    "#THE BASIS OF NumPy Arrays\n",
    "import numpy as np\n",
    "np.random.seed(0) #seed for reproductivity\n",
    "\n",
    "x1 = np.random.randint(10, size=6) #One dimentional array\n",
    "x2 = np.random.randint(10, size=(3,4)) #Two dimensional array\n",
    "x3 = np.random.randint(10, size=(3,4,5)) #Three dimensional array\n"
   ]
  },
  {
   "cell_type": "code",
   "execution_count": 22,
   "id": "e7e61e20",
   "metadata": {},
   "outputs": [
    {
     "name": "stdout",
     "output_type": "stream",
     "text": [
      "x3 ndim:  3\n",
      "x2 ndim:  2\n",
      "x1 ndim:  1\n"
     ]
    }
   ],
   "source": [
    "print(\"x3 ndim: \", x3.ndim)\n",
    "print(\"x2 ndim: \", x2.ndim)\n",
    "print(\"x1 ndim: \", x1.ndim)"
   ]
  },
  {
   "cell_type": "code",
   "execution_count": 23,
   "id": "78880557",
   "metadata": {},
   "outputs": [
    {
     "name": "stdout",
     "output_type": "stream",
     "text": [
      "x3 ndim:  3\n",
      "x3 ndim:  (3, 4, 5)\n",
      "x3 ndim:  60\n"
     ]
    }
   ],
   "source": [
    "print(\"x3 ndim: \", x3.ndim)\n",
    "print(\"x3 ndim: \", x3.shape)\n",
    "print(\"x3 ndim: \", x3.size)"
   ]
  },
  {
   "cell_type": "code",
   "execution_count": 24,
   "id": "031a4096",
   "metadata": {},
   "outputs": [],
   "source": [
    "# mport numpy as np\n",
    "\n",
    "# # Set the seed for reproducibility\n",
    "# np.random.seed(0)\n",
    "\n",
    "# # Generate a random array\n",
    "# random_array = np.random.rand(3)\n",
    "\n",
    "# print(random_array)\n",
    "# Output:\n",
    "\n",
    "# csharp\n",
    "# Copy code\n",
    "# [0.5488135  0.71518937 0.60276338]\n",
    "# If you run this code multiple times, you'll get the same output every time because the seed has been set to 0. Without setting the seed, the output would vary with each execution.\n",
    "\n",
    "# Setting the seed is particularly useful when you need to:\n",
    "\n",
    "# Compare results from different algorithms under the same random conditions.\n",
    "# Debug or verify the behavior of code that involves randomness.\n",
    "# Ensure consistent results in tutorials, documentation, or educational materials."
   ]
  },
  {
   "cell_type": "code",
   "execution_count": 25,
   "id": "ba0cec98",
   "metadata": {},
   "outputs": [
    {
     "name": "stdout",
     "output_type": "stream",
     "text": [
      "x1 dtype:  int32\n",
      "x1 itemsize:  4 bytes\n",
      "x2 itemsize:  4 bytes\n",
      "x3 itemsize:  4 bytes\n",
      "nbytes 240\n",
      "size 60\n"
     ]
    }
   ],
   "source": [
    "print(\"x1 dtype: \", x1.dtype)\n",
    "print(\"x1 itemsize: \", x1.itemsize, \"bytes\")\n",
    "print(\"x2 itemsize: \", x2.itemsize, \"bytes\")\n",
    "print(\"x3 itemsize: \", x3.itemsize, \"bytes\")\n",
    "print(\"nbytes\",x3.nbytes)\n",
    "print(\"size\", x3.size)"
   ]
  },
  {
   "cell_type": "code",
   "execution_count": 26,
   "id": "18ac2fd8",
   "metadata": {},
   "outputs": [
    {
     "data": {
      "text/plain": [
       "array([5, 0, 3, 3, 7, 9])"
      ]
     },
     "execution_count": 26,
     "metadata": {},
     "output_type": "execute_result"
    }
   ],
   "source": [
    "x1"
   ]
  },
  {
   "cell_type": "code",
   "execution_count": 27,
   "id": "953f51dd",
   "metadata": {},
   "outputs": [
    {
     "data": {
      "text/plain": [
       "5"
      ]
     },
     "execution_count": 27,
     "metadata": {},
     "output_type": "execute_result"
    }
   ],
   "source": [
    "x1[0]"
   ]
  },
  {
   "cell_type": "code",
   "execution_count": 28,
   "id": "a8c8f11d",
   "metadata": {},
   "outputs": [
    {
     "data": {
      "text/plain": [
       "7"
      ]
     },
     "execution_count": 28,
     "metadata": {},
     "output_type": "execute_result"
    }
   ],
   "source": [
    "x1[4]"
   ]
  },
  {
   "cell_type": "code",
   "execution_count": 29,
   "id": "392c7a05",
   "metadata": {},
   "outputs": [
    {
     "data": {
      "text/plain": [
       "9"
      ]
     },
     "execution_count": 29,
     "metadata": {},
     "output_type": "execute_result"
    }
   ],
   "source": [
    "#The index from the end of the array\n",
    "x1[-1]\n"
   ]
  },
  {
   "cell_type": "code",
   "execution_count": 30,
   "id": "529cce1f",
   "metadata": {},
   "outputs": [
    {
     "data": {
      "text/plain": [
       "7"
      ]
     },
     "execution_count": 30,
     "metadata": {},
     "output_type": "execute_result"
    }
   ],
   "source": [
    "x1[-2]"
   ]
  },
  {
   "cell_type": "code",
   "execution_count": 31,
   "id": "10076873",
   "metadata": {},
   "outputs": [
    {
     "data": {
      "text/plain": [
       "array([[3, 5, 2, 4],\n",
       "       [7, 6, 8, 8],\n",
       "       [1, 6, 7, 7]])"
      ]
     },
     "execution_count": 31,
     "metadata": {},
     "output_type": "execute_result"
    }
   ],
   "source": [
    "#In a multi-dimensional array elements can be accessed using a comma-separated tuple of indices\n",
    "x2"
   ]
  },
  {
   "cell_type": "code",
   "execution_count": 32,
   "id": "0b1413e2",
   "metadata": {},
   "outputs": [
    {
     "data": {
      "text/plain": [
       "3"
      ]
     },
     "execution_count": 32,
     "metadata": {},
     "output_type": "execute_result"
    }
   ],
   "source": [
    "x2[0,0]"
   ]
  },
  {
   "cell_type": "code",
   "execution_count": 33,
   "id": "e25b4917",
   "metadata": {},
   "outputs": [
    {
     "data": {
      "text/plain": [
       "4"
      ]
     },
     "execution_count": 33,
     "metadata": {},
     "output_type": "execute_result"
    }
   ],
   "source": [
    "x2[0,3]"
   ]
  },
  {
   "cell_type": "code",
   "execution_count": 34,
   "id": "aeae0913",
   "metadata": {},
   "outputs": [
    {
     "data": {
      "text/plain": [
       "7"
      ]
     },
     "execution_count": 34,
     "metadata": {},
     "output_type": "execute_result"
    }
   ],
   "source": [
    "x2[2,-1]"
   ]
  },
  {
   "cell_type": "code",
   "execution_count": 35,
   "id": "8a4ddd4b",
   "metadata": {},
   "outputs": [
    {
     "data": {
      "text/plain": [
       "1"
      ]
     },
     "execution_count": 35,
     "metadata": {},
     "output_type": "execute_result"
    }
   ],
   "source": [
    "x2[2,0]"
   ]
  },
  {
   "cell_type": "code",
   "execution_count": 36,
   "id": "f4a858f4",
   "metadata": {},
   "outputs": [
    {
     "data": {
      "text/plain": [
       "array([[12,  5,  2,  4],\n",
       "       [ 7,  6,  8,  8],\n",
       "       [ 1,  6,  7,  7]])"
      ]
     },
     "execution_count": 36,
     "metadata": {},
     "output_type": "execute_result"
    }
   ],
   "source": [
    "#Value modification\n",
    "x2[0,0] = 12\n",
    "x2"
   ]
  },
  {
   "cell_type": "code",
   "execution_count": 37,
   "id": "490dbe34",
   "metadata": {},
   "outputs": [
    {
     "data": {
      "text/plain": [
       "array([5, 0, 3, 3, 7, 9])"
      ]
     },
     "execution_count": 37,
     "metadata": {},
     "output_type": "execute_result"
    }
   ],
   "source": [
    "x1"
   ]
  },
  {
   "cell_type": "code",
   "execution_count": 38,
   "id": "3ff6b009",
   "metadata": {},
   "outputs": [
    {
     "data": {
      "text/plain": [
       "array([2, 0, 3, 3, 7, 9])"
      ]
     },
     "execution_count": 38,
     "metadata": {},
     "output_type": "execute_result"
    }
   ],
   "source": [
    "x1[0] = 2.14\n",
    "x1"
   ]
  },
  {
   "cell_type": "code",
   "execution_count": 39,
   "id": "faf33f2f",
   "metadata": {},
   "outputs": [
    {
     "data": {
      "text/plain": [
       "array([0, 1, 2, 3, 4, 5, 6, 7, 8, 9])"
      ]
     },
     "execution_count": 39,
     "metadata": {},
     "output_type": "execute_result"
    }
   ],
   "source": [
    "#Array Slicing: Accessing Subarrays\n",
    "#    X[START:STOP:STEP]\n",
    "x = np.arange(10)\n",
    "x"
   ]
  },
  {
   "cell_type": "code",
   "execution_count": 40,
   "id": "a615f527",
   "metadata": {},
   "outputs": [
    {
     "data": {
      "text/plain": [
       "array([0, 1, 2, 3, 4])"
      ]
     },
     "execution_count": 40,
     "metadata": {},
     "output_type": "execute_result"
    }
   ],
   "source": [
    "x[:5] #first five elements"
   ]
  },
  {
   "cell_type": "code",
   "execution_count": 41,
   "id": "0cec4058",
   "metadata": {},
   "outputs": [
    {
     "data": {
      "text/plain": [
       "array([5, 6, 7, 8, 9])"
      ]
     },
     "execution_count": 41,
     "metadata": {},
     "output_type": "execute_result"
    }
   ],
   "source": [
    "x[5:] # elements after five"
   ]
  },
  {
   "cell_type": "code",
   "execution_count": 42,
   "id": "1ad37d73",
   "metadata": {},
   "outputs": [
    {
     "data": {
      "text/plain": [
       "array([4, 5, 6])"
      ]
     },
     "execution_count": 42,
     "metadata": {},
     "output_type": "execute_result"
    }
   ],
   "source": [
    "x[4:7]"
   ]
  },
  {
   "cell_type": "code",
   "execution_count": 43,
   "id": "b687bd8d",
   "metadata": {},
   "outputs": [
    {
     "data": {
      "text/plain": [
       "array([0, 2, 4, 6, 8])"
      ]
     },
     "execution_count": 43,
     "metadata": {},
     "output_type": "execute_result"
    }
   ],
   "source": [
    "x[::2] #every other elements"
   ]
  },
  {
   "cell_type": "code",
   "execution_count": 44,
   "id": "0d4e1176",
   "metadata": {},
   "outputs": [
    {
     "data": {
      "text/plain": [
       "array([1, 3, 5, 7, 9])"
      ]
     },
     "execution_count": 44,
     "metadata": {},
     "output_type": "execute_result"
    }
   ],
   "source": [
    "x[1::2]  #every other elements starting from index 1"
   ]
  },
  {
   "cell_type": "code",
   "execution_count": 45,
   "id": "4f80b59e",
   "metadata": {},
   "outputs": [
    {
     "data": {
      "text/plain": [
       "array([9, 8, 7, 6, 5, 4, 3, 2, 1, 0])"
      ]
     },
     "execution_count": 45,
     "metadata": {},
     "output_type": "execute_result"
    }
   ],
   "source": [
    "x[::-1] #All elements are reversed"
   ]
  },
  {
   "cell_type": "code",
   "execution_count": 46,
   "id": "c2c27c6a",
   "metadata": {},
   "outputs": [
    {
     "data": {
      "text/plain": [
       "array([5, 3, 1])"
      ]
     },
     "execution_count": 46,
     "metadata": {},
     "output_type": "execute_result"
    }
   ],
   "source": [
    "x[5::-2] #reversed every other from index 5"
   ]
  },
  {
   "cell_type": "code",
   "execution_count": 47,
   "id": "25f309ff",
   "metadata": {},
   "outputs": [
    {
     "data": {
      "text/plain": [
       "array([[12,  5,  2,  4],\n",
       "       [ 7,  6,  8,  8],\n",
       "       [ 1,  6,  7,  7]])"
      ]
     },
     "execution_count": 47,
     "metadata": {},
     "output_type": "execute_result"
    }
   ],
   "source": [
    "#MULT DIMENSIONAL ARRAT SLICING \n",
    "x2"
   ]
  },
  {
   "cell_type": "code",
   "execution_count": 48,
   "id": "2d2e0a99",
   "metadata": {},
   "outputs": [
    {
     "data": {
      "text/plain": [
       "array([[12,  5,  2],\n",
       "       [ 7,  6,  8]])"
      ]
     },
     "execution_count": 48,
     "metadata": {},
     "output_type": "execute_result"
    }
   ],
   "source": [
    "x2[:2,:3] #two rows, three columns"
   ]
  },
  {
   "cell_type": "code",
   "execution_count": 49,
   "id": "2998f3e8",
   "metadata": {},
   "outputs": [
    {
     "data": {
      "text/plain": [
       "array([[12,  4],\n",
       "       [ 7,  8],\n",
       "       [ 1,  7]])"
      ]
     },
     "execution_count": 49,
     "metadata": {},
     "output_type": "execute_result"
    }
   ],
   "source": [
    "x2[:3,::3] #ALL ROWS AND ALL OTHER COLUMSN"
   ]
  },
  {
   "cell_type": "code",
   "execution_count": 50,
   "id": "e849bce6",
   "metadata": {},
   "outputs": [
    {
     "data": {
      "text/plain": [
       "array([[12,  5,  2,  4],\n",
       "       [ 7,  6,  8,  8],\n",
       "       [ 1,  6,  7,  7]])"
      ]
     },
     "execution_count": 50,
     "metadata": {},
     "output_type": "execute_result"
    }
   ],
   "source": [
    "#subarray can also be reversed together\n",
    "x2"
   ]
  },
  {
   "cell_type": "code",
   "execution_count": 51,
   "id": "959283a4",
   "metadata": {},
   "outputs": [
    {
     "data": {
      "text/plain": [
       "array([[ 7,  7,  6,  1],\n",
       "       [ 8,  8,  6,  7],\n",
       "       [ 4,  2,  5, 12]])"
      ]
     },
     "execution_count": 51,
     "metadata": {},
     "output_type": "execute_result"
    }
   ],
   "source": [
    "x2[::-1, ::-1] #all rows and columns are reversed"
   ]
  },
  {
   "cell_type": "code",
   "execution_count": 52,
   "id": "bb127e14",
   "metadata": {},
   "outputs": [
    {
     "name": "stdout",
     "output_type": "stream",
     "text": [
      "[12  7  1]\n"
     ]
    }
   ],
   "source": [
    "#accessing array rows and columns of x2\n",
    "print(x2[:,0])"
   ]
  },
  {
   "cell_type": "code",
   "execution_count": 53,
   "id": "58b09ddd",
   "metadata": {},
   "outputs": [
    {
     "name": "stdout",
     "output_type": "stream",
     "text": [
      "[12  5  2  4]\n"
     ]
    }
   ],
   "source": [
    "print(x2[0,:]) #first row of x2"
   ]
  },
  {
   "cell_type": "code",
   "execution_count": 54,
   "id": "479a93f3",
   "metadata": {},
   "outputs": [
    {
     "name": "stdout",
     "output_type": "stream",
     "text": [
      "[12  5  2  4]\n"
     ]
    }
   ],
   "source": [
    "print(x2[0])"
   ]
  },
  {
   "cell_type": "code",
   "execution_count": 55,
   "id": "ef908203",
   "metadata": {},
   "outputs": [
    {
     "name": "stdout",
     "output_type": "stream",
     "text": [
      "[[12  5  2  4]\n",
      " [ 7  6  8  8]\n",
      " [ 1  6  7  7]]\n"
     ]
    }
   ],
   "source": [
    "# SUBARRAYS AS NO-COPY VIEWS\n",
    "print(x2)"
   ]
  },
  {
   "cell_type": "code",
   "execution_count": 56,
   "id": "150ccbbd",
   "metadata": {},
   "outputs": [
    {
     "name": "stdout",
     "output_type": "stream",
     "text": [
      "[[12  5]\n",
      " [ 7  6]]\n"
     ]
    }
   ],
   "source": [
    "# let's extract 2 x 2 subaary from this \n",
    "x2_sub = x2[:2,:2]\n",
    "print(x2_sub)"
   ]
  },
  {
   "cell_type": "code",
   "execution_count": 57,
   "id": "2a2374f9",
   "metadata": {},
   "outputs": [
    {
     "name": "stdout",
     "output_type": "stream",
     "text": [
      "[[99  5]\n",
      " [ 7  6]]\n"
     ]
    }
   ],
   "source": [
    "x2_sub[0,0] = 99\n",
    "print(x2_sub)"
   ]
  },
  {
   "cell_type": "code",
   "execution_count": 58,
   "id": "2c70991f",
   "metadata": {},
   "outputs": [
    {
     "name": "stdout",
     "output_type": "stream",
     "text": [
      "[[99  5  2  4]\n",
      " [ 7  6  8  8]\n",
      " [ 1  6  7  7]]\n"
     ]
    }
   ],
   "source": [
    "print(x2)"
   ]
  },
  {
   "cell_type": "code",
   "execution_count": 59,
   "id": "317030bc",
   "metadata": {},
   "outputs": [
    {
     "name": "stdout",
     "output_type": "stream",
     "text": [
      "[[99  5]\n",
      " [ 7  6]]\n"
     ]
    }
   ],
   "source": [
    "x2_sub_copy = x2[:2,:2].copy()\n",
    "print(x2_sub_copy)"
   ]
  },
  {
   "cell_type": "code",
   "execution_count": 60,
   "id": "a5ab99f9",
   "metadata": {},
   "outputs": [
    {
     "name": "stdout",
     "output_type": "stream",
     "text": [
      "[[212   5]\n",
      " [  7   6]] \n",
      "\n",
      "\n",
      "\n",
      "[[99  5  2  4]\n",
      " [ 7  6  8  8]\n",
      " [ 1  6  7  7]]\n"
     ]
    }
   ],
   "source": [
    "x2_sub_copy[0,0] = 212\n",
    "print( x2_sub_copy,\"\\n\\n\\n\")\n",
    "print(x2)"
   ]
  },
  {
   "cell_type": "code",
   "execution_count": 61,
   "id": "2698bac8",
   "metadata": {},
   "outputs": [
    {
     "data": {
      "text/plain": [
       "array([[1, 2, 3],\n",
       "       [4, 5, 6],\n",
       "       [7, 8, 9]])"
      ]
     },
     "execution_count": 61,
     "metadata": {},
     "output_type": "execute_result"
    }
   ],
   "source": [
    "#Arraying reshaping \n",
    "grid = np.arange(1,10).reshape((3,3))\n",
    "grid"
   ]
  },
  {
   "cell_type": "code",
   "execution_count": 62,
   "id": "67c11e56",
   "metadata": {},
   "outputs": [
    {
     "data": {
      "text/plain": [
       "array([[1, 2, 3]])"
      ]
     },
     "execution_count": 62,
     "metadata": {},
     "output_type": "execute_result"
    }
   ],
   "source": [
    "xx = np.array([1,2,3])\n",
    "#row vector via reshape\n",
    "xx.reshape((1,3))"
   ]
  },
  {
   "cell_type": "code",
   "execution_count": 63,
   "id": "c0cbdff5",
   "metadata": {},
   "outputs": [
    {
     "data": {
      "text/plain": [
       "array([1, 2, 3, 3, 2, 1])"
      ]
     },
     "execution_count": 63,
     "metadata": {},
     "output_type": "execute_result"
    }
   ],
   "source": [
    "#Array concatenation of arrays\n",
    "q = np.array([1,2,3])\n",
    "y = np.array([3,2,1])\n",
    "np.concatenate([q,y])"
   ]
  },
  {
   "cell_type": "code",
   "execution_count": 64,
   "id": "bb7d15df",
   "metadata": {},
   "outputs": [
    {
     "name": "stdout",
     "output_type": "stream",
     "text": [
      "[99 99 99  2  3  4 44 44]\n"
     ]
    }
   ],
   "source": [
    "z = [99,99,99]\n",
    "s = [2,3,4,44,44]\n",
    "print(np.concatenate([z,s]))\n"
   ]
  },
  {
   "cell_type": "code",
   "execution_count": 65,
   "id": "841c8715",
   "metadata": {},
   "outputs": [],
   "source": [
    "grid = np.array([[1,2,3],\n",
    "                [4,5,6]])"
   ]
  },
  {
   "cell_type": "code",
   "execution_count": 66,
   "id": "2b34010e",
   "metadata": {
    "scrolled": true
   },
   "outputs": [
    {
     "name": "stdout",
     "output_type": "stream",
     "text": [
      "[[1 2 3]\n",
      " [4 5 6]\n",
      " [1 2 3]\n",
      " [4 5 6]]\n"
     ]
    }
   ],
   "source": [
    "print(np.concatenate([grid,grid]))"
   ]
  },
  {
   "cell_type": "code",
   "execution_count": 67,
   "id": "fa01c31b",
   "metadata": {},
   "outputs": [
    {
     "name": "stdout",
     "output_type": "stream",
     "text": [
      "[[1 2 3 1 2 3]\n",
      " [4 5 6 4 5 6]]\n"
     ]
    }
   ],
   "source": [
    "print(np.concatenate([grid,grid],axis=1))"
   ]
  },
  {
   "cell_type": "code",
   "execution_count": 68,
   "id": "0aef74ab",
   "metadata": {},
   "outputs": [
    {
     "name": "stdout",
     "output_type": "stream",
     "text": [
      "[1 2] [] [ 2  3  4  5  6  7  8 99]\n"
     ]
    }
   ],
   "source": [
    "#splitting of arrays \n",
    "x = [1,2,3,4,5,6,7,8,99]\n",
    "x1,x2,x3 = np.split(x,[2,1])\n",
    "print(x1,x2,x3)"
   ]
  },
  {
   "cell_type": "code",
   "execution_count": 69,
   "id": "fd6d772c",
   "metadata": {},
   "outputs": [],
   "source": [
    "#EXAMPLE"
   ]
  },
  {
   "cell_type": "code",
   "execution_count": 70,
   "id": "9ac09043",
   "metadata": {},
   "outputs": [
    {
     "data": {
      "text/plain": [
       "array([0.2       , 0.25      , 0.2       , 0.2       , 0.11111111])"
      ]
     },
     "execution_count": 70,
     "metadata": {},
     "output_type": "execute_result"
    }
   ],
   "source": [
    "def compute_reciprocals(values):\n",
    "    output = np.empty(len(values))\n",
    "    for i in range(len(values)):\n",
    "        output[i] = 1.0/values[i]\n",
    "    return output\n",
    "values = np.random.randint(1,10,size=5)\n",
    "compute_reciprocals(values)"
   ]
  },
  {
   "cell_type": "code",
   "execution_count": 71,
   "id": "6ad1482d",
   "metadata": {},
   "outputs": [
    {
     "name": "stdout",
     "output_type": "stream",
     "text": [
      "405 µs ± 43.2 µs per loop (mean ± std. dev. of 7 runs, 1,000 loops each)\n"
     ]
    }
   ],
   "source": [
    "big_array = np.random.randint(1,10, size=100)\n",
    "%timeit compute_reciprocals(big_array)"
   ]
  },
  {
   "cell_type": "code",
   "execution_count": 72,
   "id": "6f39f70a",
   "metadata": {},
   "outputs": [
    {
     "name": "stdout",
     "output_type": "stream",
     "text": [
      "24.4 ns ± 4.78 ns per loop (mean ± std. dev. of 7 runs, 10,000,000 loops each)\n"
     ]
    }
   ],
   "source": [
    "b = 12 + 54\n",
    "%timeit 12 + 54"
   ]
  },
  {
   "cell_type": "code",
   "execution_count": 73,
   "id": "f10db1a6",
   "metadata": {},
   "outputs": [
    {
     "name": "stdout",
     "output_type": "stream",
     "text": [
      "[6 3 7 5 6]\n"
     ]
    }
   ],
   "source": [
    "arr = np.random.randint(3,9,size = 5)\n",
    "print(arr)"
   ]
  },
  {
   "cell_type": "code",
   "execution_count": 74,
   "id": "16a549bf",
   "metadata": {},
   "outputs": [
    {
     "name": "stdout",
     "output_type": "stream",
     "text": [
      "[0.16666667 0.33333333 0.14285714 0.2        0.16666667]\n"
     ]
    }
   ],
   "source": [
    "print(1/arr)"
   ]
  },
  {
   "cell_type": "code",
   "execution_count": 75,
   "id": "3b2ed438",
   "metadata": {},
   "outputs": [
    {
     "name": "stdout",
     "output_type": "stream",
     "text": [
      "x     = [0 1 2 3]\n",
      "x + 5 = [5 6 7 8]\n",
      "x - 5 = [-5 -4 -3 -2]\n",
      "x * 5 = [ 0  5 10 15]\n",
      "x / 5 = [0.  0.2 0.4 0.6]\n",
      "x //5 = [0 0 0 0]\n"
     ]
    }
   ],
   "source": [
    "x = np.arange(4)\n",
    "print(\"x     =\",x)\n",
    "print(\"x + 5 =\",x +5)\n",
    "print(\"x - 5 =\", x-5)\n",
    "print(\"x * 5 =\", x*5)\n",
    "print(\"x / 5 =\",x/5)\n",
    "print(\"x //5 =\",x//5)"
   ]
  },
  {
   "cell_type": "code",
   "execution_count": 76,
   "id": "137708df",
   "metadata": {},
   "outputs": [
    {
     "name": "stdout",
     "output_type": "stream",
     "text": [
      "[3 4 5 6]\n"
     ]
    }
   ],
   "source": [
    "result =np.add(x,3)\n",
    "print(result)"
   ]
  },
  {
   "cell_type": "code",
   "execution_count": 77,
   "id": "ca4b4c91",
   "metadata": {},
   "outputs": [],
   "source": [
    "# np.add\n",
    "# np.substract\n",
    "# np.negative\n",
    "# np.multiply\n",
    "# np.divide\n",
    "# np.floor_divide\n",
    "# np.power\n",
    "# np.mod"
   ]
  },
  {
   "cell_type": "code",
   "execution_count": 78,
   "id": "1fa78440",
   "metadata": {},
   "outputs": [
    {
     "name": "stdout",
     "output_type": "stream",
     "text": [
      "[2 1 0 1 2]\n"
     ]
    }
   ],
   "source": [
    "#Absolute value\n",
    "x = np.array([-2,-1,0,1,2])\n",
    "print(abs(x))"
   ]
  },
  {
   "cell_type": "code",
   "execution_count": 79,
   "id": "ce9f2cf4",
   "metadata": {},
   "outputs": [
    {
     "name": "stdout",
     "output_type": "stream",
     "text": [
      "[0.         1.57079633 3.14159265]\n"
     ]
    }
   ],
   "source": [
    "#Trigonometric functions\n",
    "theta = np.linspace(0,np.pi,3)\n",
    "print(theta)"
   ]
  },
  {
   "cell_type": "code",
   "execution_count": 80,
   "id": "34610154",
   "metadata": {},
   "outputs": [
    {
     "name": "stdout",
     "output_type": "stream",
     "text": [
      "[0.         1.57079633 3.14159265]\n",
      "Sin [0.0000000e+00 1.0000000e+00 1.2246468e-16]\n",
      "Cos [ 1.000000e+00  6.123234e-17 -1.000000e+00]\n",
      "Tan [ 0.00000000e+00  1.63312394e+16 -1.22464680e-16]\n"
     ]
    }
   ],
   "source": [
    "print(theta)\n",
    "print(\"Sin\",np.sin(theta))\n",
    "print(\"Cos\",np.cos(theta))\n",
    "print(\"Tan\",np.tan(theta))"
   ]
  },
  {
   "cell_type": "code",
   "execution_count": 81,
   "id": "c657e56d",
   "metadata": {},
   "outputs": [],
   "source": [
    "from scipy import special\n",
    "x = [1,]"
   ]
  },
  {
   "cell_type": "markdown",
   "id": "948cd79c",
   "metadata": {},
   "source": [
    "SUMMING THE VALUES IN AN ARRAY "
   ]
  },
  {
   "cell_type": "code",
   "execution_count": 82,
   "id": "7fc95b93",
   "metadata": {},
   "outputs": [],
   "source": [
    "import numpy as np"
   ]
  },
  {
   "cell_type": "code",
   "execution_count": 83,
   "id": "d8a47ef4",
   "metadata": {},
   "outputs": [
    {
     "data": {
      "text/plain": [
       "52.80632752603553"
      ]
     },
     "execution_count": 83,
     "metadata": {},
     "output_type": "execute_result"
    }
   ],
   "source": [
    "L = np.random.random(100)\n",
    "sum(L)"
   ]
  },
  {
   "cell_type": "code",
   "execution_count": 84,
   "id": "77502bc6",
   "metadata": {},
   "outputs": [
    {
     "data": {
      "text/plain": [
       "52.80632752603554"
      ]
     },
     "execution_count": 84,
     "metadata": {},
     "output_type": "execute_result"
    }
   ],
   "source": [
    "# NUMPY SUM \n",
    "np.sum(L)"
   ]
  },
  {
   "cell_type": "code",
   "execution_count": 85,
   "id": "65cf09d7",
   "metadata": {},
   "outputs": [],
   "source": [
    "##MINIMUM AND MAXIMUM"
   ]
  },
  {
   "cell_type": "code",
   "execution_count": 86,
   "id": "a276cf93",
   "metadata": {},
   "outputs": [
    {
     "data": {
      "text/plain": [
       "(1, 9)"
      ]
     },
     "execution_count": 86,
     "metadata": {},
     "output_type": "execute_result"
    }
   ],
   "source": [
    "min(big_array), max(big_array)"
   ]
  },
  {
   "cell_type": "code",
   "execution_count": 87,
   "id": "1dc90a2c",
   "metadata": {},
   "outputs": [],
   "source": [
    "#NUMPY CORRESPONDING FUNCTION"
   ]
  },
  {
   "cell_type": "code",
   "execution_count": 88,
   "id": "68246e16",
   "metadata": {},
   "outputs": [
    {
     "data": {
      "text/plain": [
       "(1, 9)"
      ]
     },
     "execution_count": 88,
     "metadata": {},
     "output_type": "execute_result"
    }
   ],
   "source": [
    "np.min(big_array), np.max(big_array)"
   ]
  },
  {
   "cell_type": "code",
   "execution_count": 89,
   "id": "410ff429",
   "metadata": {},
   "outputs": [
    {
     "name": "stdout",
     "output_type": "stream",
     "text": [
      "12.5 µs ± 1.47 µs per loop (mean ± std. dev. of 7 runs, 100,000 loops each)\n"
     ]
    }
   ],
   "source": [
    "%timeit min(big_array)"
   ]
  },
  {
   "cell_type": "code",
   "execution_count": 90,
   "id": "b2487d33",
   "metadata": {},
   "outputs": [
    {
     "name": "stdout",
     "output_type": "stream",
     "text": [
      "7.68 µs ± 293 ns per loop (mean ± std. dev. of 7 runs, 100,000 loops each)\n"
     ]
    }
   ],
   "source": [
    "%timeit np.min(big_array)"
   ]
  },
  {
   "cell_type": "code",
   "execution_count": 91,
   "id": "ac97f198",
   "metadata": {},
   "outputs": [
    {
     "name": "stdout",
     "output_type": "stream",
     "text": [
      "487 9 1\n"
     ]
    }
   ],
   "source": [
    "print(big_array.sum(), big_array.max(), big_array.min())"
   ]
  },
  {
   "cell_type": "code",
   "execution_count": 92,
   "id": "e8334e18",
   "metadata": {},
   "outputs": [],
   "source": [
    "# MULTI DIMENSIONAL AGGREGATES\n"
   ]
  },
  {
   "cell_type": "code",
   "execution_count": 93,
   "id": "54fcfa61",
   "metadata": {},
   "outputs": [
    {
     "name": "stdout",
     "output_type": "stream",
     "text": [
      "[[0.12483306 0.72208066 0.03045296 0.74699424]\n",
      " [0.09259617 0.21745049 0.74925442 0.73169376]\n",
      " [0.04561464 0.20915703 0.28691504 0.67726331]]\n"
     ]
    }
   ],
   "source": [
    "M = np.random.random((3,4))\n",
    "print(M)"
   ]
  },
  {
   "cell_type": "code",
   "execution_count": 94,
   "id": "47332712",
   "metadata": {},
   "outputs": [
    {
     "data": {
      "text/plain": [
       "4.634305771656713"
      ]
     },
     "execution_count": 94,
     "metadata": {},
     "output_type": "execute_result"
    }
   ],
   "source": [
    "M.sum()"
   ]
  },
  {
   "cell_type": "code",
   "execution_count": 95,
   "id": "f5441925",
   "metadata": {},
   "outputs": [
    {
     "data": {
      "text/plain": [
       "array([0.04561464, 0.20915703, 0.03045296, 0.67726331])"
      ]
     },
     "execution_count": 95,
     "metadata": {},
     "output_type": "execute_result"
    }
   ],
   "source": [
    "M.min(axis = 0)"
   ]
  },
  {
   "cell_type": "code",
   "execution_count": 96,
   "id": "e0ba9921",
   "metadata": {},
   "outputs": [],
   "source": [
    "#ALSO WE CAN FIND THE MAXMUM VALUE ON EACH ROW\n"
   ]
  },
  {
   "cell_type": "code",
   "execution_count": 97,
   "id": "aa0b5ee3",
   "metadata": {},
   "outputs": [
    {
     "data": {
      "text/plain": [
       "array([0.74699424, 0.74925442, 0.67726331])"
      ]
     },
     "execution_count": 97,
     "metadata": {},
     "output_type": "execute_result"
    }
   ],
   "source": [
    "M.max(axis=1)"
   ]
  },
  {
   "cell_type": "code",
   "execution_count": 98,
   "id": "3aa7a6dc",
   "metadata": {},
   "outputs": [],
   "source": [
    "a = [189, 170, 189, 163, 183, 171, 185, 168, 173, 183, 173, 173, 175, 178, 183, 193, 178, 173,\n",
    " 174, 183, 183, 168, 170, 178, 182, 180, 183, 178, 182, 188, 175, 179, 183, 193, 182, 183,\n",
    " 177, 185, 188, 188, 182, 185]"
   ]
  },
  {
   "cell_type": "code",
   "execution_count": 99,
   "id": "c88ee79c",
   "metadata": {},
   "outputs": [
    {
     "name": "stdout",
     "output_type": "stream",
     "text": [
      "[189 170 189 163 183 171 185 168 173 183 173 173 175 178 183 193 178 173\n",
      " 174 183 183 168 170 178 182 180 183 178 182 188 175 179 183 193 182 183\n",
      " 177 185 188 188 182 185]\n"
     ]
    }
   ],
   "source": [
    "heights = np.array(a)\n",
    "print(heights)"
   ]
  },
  {
   "cell_type": "code",
   "execution_count": 100,
   "id": "a79c7ebb",
   "metadata": {},
   "outputs": [
    {
     "name": "stdout",
     "output_type": "stream",
     "text": [
      "Mean height:       179.73809523809524\n",
      "Standard deviation 6.931843442745892\n",
      "Minimum height 163\n",
      "Maxmum height 193\n"
     ]
    }
   ],
   "source": [
    "print(\"Mean height:      \",heights.mean())\n",
    "print(\"Standard deviation\", heights.std())\n",
    "print(\"Minimum height\", heights.min())\n",
    "print(\"Maxmum height\", heights.max())"
   ]
  },
  {
   "cell_type": "code",
   "execution_count": 101,
   "id": "341a64f5",
   "metadata": {},
   "outputs": [
    {
     "name": "stdout",
     "output_type": "stream",
     "text": [
      "25th percentiles:  174.25\n",
      "Median  182.0\n",
      "75th percentiles  183.0\n"
     ]
    }
   ],
   "source": [
    "print(\"25th percentiles: \",np.percentile(heights,25))\n",
    "print(\"Median \", np.median(heights))\n",
    "print(\"75th percentiles \", np.percentile(heights, 75))"
   ]
  },
  {
   "cell_type": "code",
   "execution_count": 102,
   "id": "8c88251d",
   "metadata": {},
   "outputs": [],
   "source": [
    "%matplotlib inline\n",
    "import matplotlib.pyplot as plt\n",
    "import seaborn; seaborn.set()"
   ]
  },
  {
   "cell_type": "code",
   "execution_count": 104,
   "id": "c44f2cff",
   "metadata": {},
   "outputs": [
    {
     "data": {
      "image/png": "[encoded data removed]",
      "text/plain": [
       "<Figure size 640x480 with 1 Axes>"
      ]
     },
     "metadata": {},
     "output_type": "display_data"
    }
   ],
   "source": [
    "plt.hist(heights)\n",
    "plt.title('Height Distribution of Us Presidents')\n",
    "plt.xlabel('Height (cm)')\n",
    "plt.ylabel('number');\n"
   ]
  },
  {
   "cell_type": "code",
   "execution_count": 105,
   "id": "731c81bf",
   "metadata": {},
   "outputs": [],
   "source": [
    "#PLOTTING A TWO-DIMENSIONAL FUNCTION"
   ]
  },
  {
   "cell_type": "code",
   "execution_count": 106,
   "id": "e29455f2",
   "metadata": {},
   "outputs": [],
   "source": [
    "#One important tha broadcasting is much important is wen displaying \n",
    "# images based on two-dimensional functions/If we want to define a function z = f(x,y),\n",
    "#broadcasting can be used to compute the function accross the grid\n"
   ]
  },
  {
   "cell_type": "code",
   "execution_count": 122,
   "id": "a7bec57f",
   "metadata": {},
   "outputs": [
    {
     "name": "stdout",
     "output_type": "stream",
     "text": [
      "4\n",
      "0.0001557635999014944\n"
     ]
    }
   ],
   "source": [
    "#x and y have 50 steps from 0 to 5\n",
    "import pandas as pd\n",
    "# import ma/th\n",
    "x = np.linspace(0,5,50)\n",
    "X = pd.DataFrame(x)\n",
    "y = np.linspace(0,5,50)[:,np.newaxis]\n",
    "Y = pd.DataFrame(y)\n",
    "# Y\n",
    "\n",
    "z = np.sin(x) ** 10 + np.cos(10 + y * x) * np.cos(x)\n",
    "# a = 2\n",
    "# print(a**2)\n",
    "# print(np.cos(a)**10)\n"
   ]
  },
  {
   "cell_type": "code",
   "execution_count": 123,
   "id": "299b6bbb",
   "metadata": {},
   "outputs": [],
   "source": [
    "# we use matplotlib to plot two-dimensional array \n"
   ]
  },
  {
   "cell_type": "code",
   "execution_count": 124,
   "id": "49b071b6",
   "metadata": {},
   "outputs": [],
   "source": [
    "%matplotlib inline\n",
    "import matplotlib.pyplot as plt\n"
   ]
  },
  {
   "cell_type": "code",
   "execution_count": 128,
   "id": "f5063dd8",
   "metadata": {},
   "outputs": [
    {
     "data": {
      "image/png": "[encoded data removed]",
      "text/plain": [
       "<Figure size 640x480 with 2 Axes>"
      ]
     },
     "metadata": {},
     "output_type": "display_data"
    }
   ],
   "source": [
    "plt.imshow(z, origin=\"lower\", extent=[0,5,0,5],\n",
    "          cmap='viridis')\n",
    "plt.colorbar();\n"
   ]
  },
  {
   "cell_type": "code",
   "execution_count": 136,
   "id": "7a031f5e",
   "metadata": {},
   "outputs": [],
   "source": [
    "# q = np.ones((4,4))\n",
    "# a = np.arange(4)\n",
    "# z = q + a\n",
    "# print(z)\n",
    "# plt.imshow(a, origin='lower', extent=[0,5,0,5],\n",
    "#           cmap='viridis')\n",
    "# plt.colorbar();"
   ]
  },
  {
   "cell_type": "markdown",
   "id": "49fc074d",
   "metadata": {},
   "source": [
    "COMPARISONS, MASKS, AND BOOLEAN LOGIC"
   ]
  },
  {
   "cell_type": "raw",
   "id": "2c44286b",
   "metadata": {},
   "source": [
    "Maskings comes up when you want to extract, modify, count, or otherwise manupulate values in an array based on some criteria"
   ]
  },
  {
   "cell_type": "code",
   "execution_count": null,
   "id": "ac6367cd",
   "metadata": {},
   "outputs": [],
   "source": []
  },
  {
   "cell_type": "code",
   "execution_count": null,
   "id": "e5565a5e",
   "metadata": {},
   "outputs": [],
   "source": []
  },
  {
   "cell_type": "code",
   "execution_count": null,
   "id": "e743ea54",
   "metadata": {},
   "outputs": [],
   "source": []
  },
  {
   "cell_type": "code",
   "execution_count": null,
   "id": "9ceccdae",
   "metadata": {},
   "outputs": [],
   "source": []
  },
  {
   "cell_type": "code",
   "execution_count": null,
   "id": "cfc1b73f",
   "metadata": {},
   "outputs": [],
   "source": []
  },
  {
   "cell_type": "code",
   "execution_count": null,
   "id": "673d0744",
   "metadata": {},
   "outputs": [],
   "source": []
  },
  {
   "cell_type": "code",
   "execution_count": null,
   "id": "32cb2ec7",
   "metadata": {},
   "outputs": [],
   "source": []
  },
  {
   "cell_type": "code",
   "execution_count": null,
   "id": "60edb9e5",
   "metadata": {},
   "outputs": [],
   "source": []
  },
  {
   "cell_type": "code",
   "execution_count": null,
   "id": "765382f7",
   "metadata": {},
   "outputs": [],
   "source": []
  },
  {
   "cell_type": "code",
   "execution_count": null,
   "id": "b3b85d5b",
   "metadata": {},
   "outputs": [],
   "source": []
  },
  {
   "cell_type": "code",
   "execution_count": null,
   "id": "12a3dd4e",
   "metadata": {},
   "outputs": [],
   "source": []
  },
  {
   "cell_type": "code",
   "execution_count": null,
   "id": "c5733b02",
   "metadata": {},
   "outputs": [],
   "source": []
  },
  {
   "cell_type": "code",
   "execution_count": null,
   "id": "5313e976",
   "metadata": {},
   "outputs": [],
   "source": []
  },
  {
   "cell_type": "code",
   "execution_count": null,
   "id": "5574b0c9",
   "metadata": {},
   "outputs": [],
   "source": []
  }
 ],
 "metadata": {
  "kernelspec": {
   "display_name": "Python 3 (ipykernel)",
   "language": "python",
   "name": "python3"
  },
  "language_info": {
   "codemirror_mode": {
    "name": "ipython",
    "version": 3
   },
   "file_extension": ".py",
   "mimetype": "text/x-python",
   "name": "python",
   "nbconvert_exporter": "python",
   "pygments_lexer": "ipython3",
   "version": "3.11.5"
  }
 },
 "nbformat": 4,
 "nbformat_minor": 5
}
